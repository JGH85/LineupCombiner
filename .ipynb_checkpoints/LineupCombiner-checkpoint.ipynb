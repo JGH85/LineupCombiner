{
 "cells": [
  {
   "cell_type": "code",
   "execution_count": null,
   "metadata": {},
   "outputs": [],
   "source": [
    "import pandas as pd\n"
   ]
  },
  {
   "cell_type": "markdown",
   "metadata": {},
   "source": [
    "# Import CSVs"
   ]
  },
  {
   "cell_type": "code",
   "execution_count": null,
   "metadata": {},
   "outputs": [],
   "source": [
    "# Save path to data set in a variable\n",
    "dkfile = \"Resources/DKSalariesMainSlateWeek3Cleaned.csv\"\n",
    "fdfile = \"Resources/FanduelSalariesMainSlateWeek3Cleaned.csv\"\n",
    "draftfile = \"Resources/FantasyDraftSalariesMainSlateWeek3.csv\""
   ]
  },
  {
   "cell_type": "code",
   "execution_count": null,
   "metadata": {},
   "outputs": [],
   "source": [
    "# import draftkings csv\n",
    "dk_pd = pd.read_csv(dkfile)\n",
    "dk_pd.head()"
   ]
  },
  {
   "cell_type": "code",
   "execution_count": null,
   "metadata": {},
   "outputs": [],
   "source": [
    "# import fantasydraft csv\n",
    "draft_pd = pd.read_csv(draftfile)\n",
    "draft_pd.head()"
   ]
  },
  {
   "cell_type": "code",
   "execution_count": null,
   "metadata": {},
   "outputs": [],
   "source": [
    "# #need to clean up fd csv first. it has 6b intro lines\n",
    "fd_pd = pd.read_csv(fdfile, header=6)"
   ]
  },
  {
   "cell_type": "markdown",
   "metadata": {},
   "source": [
    "# Clean Dataframes"
   ]
  },
  {
   "cell_type": "markdown",
   "metadata": {},
   "source": [
    "### Draftkings Cleaning"
   ]
  },
  {
   "cell_type": "code",
   "execution_count": null,
   "metadata": {},
   "outputs": [],
   "source": [
    "# dk_pd.describe()\n",
    "# dk_pd.columns\n",
    "#clean up all column headers to enable dot notation\n",
    "dk_pd.columns = dk_pd.columns.str.strip().str.lower().str.replace(' ', '_').str.replace('(', '').str.replace(')', '')\n",
    "\n",
    "# strip column that we will be using for joining\n",
    "dk_pd.loc[:,'name'] = dk_pd.name.str.strip()\n",
    "\n",
    "# add dk suffix\n",
    "dk_pd = dk_pd.add_suffix('_dk')\n",
    "dk_pd.head()"
   ]
  },
  {
   "cell_type": "markdown",
   "metadata": {},
   "source": [
    "### FantasyDraft Cleaning"
   ]
  },
  {
   "cell_type": "code",
   "execution_count": null,
   "metadata": {},
   "outputs": [],
   "source": [
    "#clean up all column headers to enable dot notation\n",
    "draft_pd.columns = draft_pd.columns.str.strip().str.lower().str.replace(' ', '_').str.replace('(', '').str.replace(')', '')\n",
    "\n",
    "#add suffix\n",
    "draft_pd = draft_pd.add_suffix('_draft')\n",
    "draft_pd.head()"
   ]
  },
  {
   "cell_type": "code",
   "execution_count": null,
   "metadata": {},
   "outputs": [],
   "source": [
    "# defense before cleaning\n",
    "draft_pd[draft_pd.position_draft == 'DST']"
   ]
  },
  {
   "cell_type": "code",
   "execution_count": null,
   "metadata": {},
   "outputs": [],
   "source": [
    "# if DST, replace name with team name\n",
    "draft_pd.loc[draft_pd.position_draft == 'DST', 'name_draft'] = draft_pd['team_draft']\n",
    "draft_pd[draft_pd.position_draft == 'DST']"
   ]
  },
  {
   "cell_type": "code",
   "execution_count": null,
   "metadata": {},
   "outputs": [],
   "source": [
    "# strip name column in preparation for joining\n",
    "draft_pd.loc[:,'name_draft'] = draft_pd.name_draft.str.strip()\n",
    "draft_pd.head()"
   ]
  },
  {
   "cell_type": "code",
   "execution_count": null,
   "metadata": {},
   "outputs": [],
   "source": [
    "# # test to see if positions merge properly on their own (depends on columns cleaning)\n",
    "# test_dk = dk_pd[dk_pd.position_dk == 'DST']\n",
    "# # test_dk.loc[:,'name_dk'] = test_dk.name_dk.str.strip()\n",
    "\n",
    "# test_dk\n",
    "# test_draft = draft_pd[draft_pd.position_draft == 'DST']\n",
    "# test_draft.head()\n",
    "# # test_draft.loc[:,'name_draft'] = test_draft.name_draft.str.strip().str.lower()\n",
    "# # test_draft.loc[:,'name_draft'] = test_draft.name_draft.str.strip()\n",
    "\n",
    "# test_draft.head()\n",
    "# test_merge = pd.merge(test_dk, test_draft, 'outer', left_on ='name_dk', right_on = 'name_draft')\n",
    "# test_merge.head()"
   ]
  },
  {
   "cell_type": "code",
   "execution_count": null,
   "metadata": {},
   "outputs": [],
   "source": [
    "# function for cleaning up currency columns\n",
    "def convert_currency(val):\n",
    "    \"\"\"\n",
    "    Convert the string number value to a float\n",
    "     - Remove $\n",
    "     - Remove commas\n",
    "     - Convert to float type\n",
    "    if input not string, return input\n",
    "    \"\"\"\n",
    "    if isinstance(val, str):\n",
    "        new_val = val.replace(',','').replace('$', '')\n",
    "        return float(new_val)\n",
    "    else:\n",
    "        return val"
   ]
  },
  {
   "cell_type": "code",
   "execution_count": null,
   "metadata": {},
   "outputs": [],
   "source": [
    "draft_pd['salary_draft'] = draft_pd['salary_draft']\n",
    "# strip currency from salary_draft\n",
    "draft_pd['salary_draft'] = draft_pd['salary_draft'].apply(convert_currency)\n",
    "draft_pd.dtypes"
   ]
  },
  {
   "cell_type": "markdown",
   "metadata": {},
   "source": [
    "### Fanduel Cleaning"
   ]
  },
  {
   "cell_type": "code",
   "execution_count": null,
   "metadata": {},
   "outputs": [],
   "source": [
    "\n",
    "# fd_pd.rename(columns={'Nickname':'Name'}, inplace=True)\n",
    "#clean up all column headers to enable dot notation\n",
    "fd_pd.columns = fd_pd.columns.str.strip().str.lower().str.replace(' ', '_').str.replace('(', '').str.replace(')', '')\n",
    "\n",
    "fd_pd = fd_pd.add_suffix('_fd')\n",
    "fd_pd.head()"
   ]
  },
  {
   "cell_type": "code",
   "execution_count": null,
   "metadata": {},
   "outputs": [],
   "source": [
    "# clean defense team names\n",
    "# fd_pd[fd_pd.position_fd == 'D']\n",
    "fd_pd.loc[fd_pd.position_fd == 'D', 'nickname_fd'] = fd_pd['last_name_fd']\n",
    "fd_pd[fd_pd.position_fd == 'D']"
   ]
  },
  {
   "cell_type": "code",
   "execution_count": null,
   "metadata": {},
   "outputs": [],
   "source": [
    "# strip name column in preparation for joining\n",
    "fd_pd.loc[:,'nickname_fd'] = fd_pd.nickname_fd.str.strip()\n",
    "fd_pd.head()"
   ]
  },
  {
   "cell_type": "code",
   "execution_count": null,
   "metadata": {},
   "outputs": [],
   "source": [
    "#clean up columns\n",
    "fd_pd.played_fd = pd.to_numeric(fd_pd.played_fd, errors='coerce').fillna(0).astype('int64')\n"
   ]
  },
  {
   "cell_type": "code",
   "execution_count": null,
   "metadata": {},
   "outputs": [],
   "source": []
  },
  {
   "cell_type": "code",
   "execution_count": null,
   "metadata": {},
   "outputs": [],
   "source": []
  },
  {
   "cell_type": "code",
   "execution_count": null,
   "metadata": {},
   "outputs": [],
   "source": [
    "# print(len(dk_pd))\n",
    "# print(len(draft_pd))\n",
    "# print(len(fd_pd))\n",
    "# dk_"
   ]
  },
  {
   "cell_type": "markdown",
   "metadata": {},
   "source": [
    "# Joining CSVs"
   ]
  },
  {
   "cell_type": "code",
   "execution_count": null,
   "metadata": {},
   "outputs": [],
   "source": [
    "# start joining csvs\n",
    "dk_draft = pd.merge(dk_pd, draft_pd, 'outer', left_on ='name_dk', right_on = 'name_draft')\n",
    "dk_draft"
   ]
  },
  {
   "cell_type": "code",
   "execution_count": null,
   "metadata": {},
   "outputs": [],
   "source": [
    "print(len(dk_draft))\n",
    "dk_draft.dtypes\n",
    "dk_draft.to_csv(\"test1.csv\")"
   ]
  },
  {
   "cell_type": "code",
   "execution_count": null,
   "metadata": {},
   "outputs": [],
   "source": [
    "all_pd = pd.merge(dk_draft, fd_pd, 'outer',left_on = 'name_dk', right_on = 'nickname_fd')\n",
    "all_pd.head()"
   ]
  },
  {
   "cell_type": "code",
   "execution_count": null,
   "metadata": {},
   "outputs": [],
   "source": [
    "all_pd.salary_draft.unique()"
   ]
  },
  {
   "cell_type": "code",
   "execution_count": null,
   "metadata": {},
   "outputs": [],
   "source": []
  },
  {
   "cell_type": "markdown",
   "metadata": {},
   "source": []
  },
  {
   "cell_type": "code",
   "execution_count": null,
   "metadata": {},
   "outputs": [],
   "source": [
    "# get median games played to set weeks value\n",
    "median_games_played = all_pd.played_fd.median()\n",
    "median_games_played"
   ]
  },
  {
   "cell_type": "code",
   "execution_count": null,
   "metadata": {},
   "outputs": [],
   "source": [
    "current_week = int(median_games_played) + 1\n",
    "current_week"
   ]
  },
  {
   "cell_type": "code",
   "execution_count": null,
   "metadata": {},
   "outputs": [],
   "source": [
    "all_pd['week'] = current_week\n",
    "all_pd.head()"
   ]
  },
  {
   "cell_type": "code",
   "execution_count": null,
   "metadata": {},
   "outputs": [],
   "source": [
    "all_pd.columns"
   ]
  },
  {
   "cell_type": "code",
   "execution_count": null,
   "metadata": {},
   "outputs": [],
   "source": [
    "all_cut = all_pd[['name_dk', 'position_dk','team_draft', 'opponent_fd','salary_dk', 'salary_draft', 'salary_fd', 'avg_fppg_draft', 'avgpointspergame_dk', 'fppg_fd' ]]\n",
    "all_cut.head()"
   ]
  },
  {
   "cell_type": "code",
   "execution_count": null,
   "metadata": {},
   "outputs": [],
   "source": []
  },
  {
   "cell_type": "code",
   "execution_count": null,
   "metadata": {},
   "outputs": [],
   "source": [
    "all_cut.head()"
   ]
  },
  {
   "cell_type": "code",
   "execution_count": null,
   "metadata": {},
   "outputs": [],
   "source": [
    "all_cut['fd-dk'] = all_cut.salary_fd - all_cut.salary_dk\n",
    "all_cut['draft-dk'] = all_cut.salary_draft - all_cut.salary_dk\n",
    "all_cut['draft-fd'] = all_cut.salary_draft - all_cut.salary_fd\n",
    "all_cut['fd_adj'] = round(all_cut.salary_fd * .8333333333 )\n",
    "all_cut['draft_adj'] = all_cut.salary_draft * .5\n",
    "all_cut['adj_fd-dk'] = all_cut.fd_adj - all_cut.salary_dk\n",
    "all_cut['adj_draft-dk'] = all_cut.draft_adj - all_cut.salary_dk\n",
    "\n",
    "\n",
    "all_cut.head()"
   ]
  },
  {
   "cell_type": "code",
   "execution_count": null,
   "metadata": {},
   "outputs": [],
   "source": [
    "all_cut.columns.tolist()"
   ]
  },
  {
   "cell_type": "code",
   "execution_count": null,
   "metadata": {},
   "outputs": [],
   "source": [
    "# reorder columns\n",
    "new_columns = ['name_dk',\n",
    " 'position_dk',\n",
    " 'team_draft',\n",
    " 'opponent_fd',\n",
    " 'salary_dk',\n",
    "  'salary_fd',\n",
    " 'salary_draft',\n",
    " 'fd_adj',\n",
    "  'draft_adj',\n",
    "  'adj_fd-dk',\n",
    " 'adj_draft-dk',\n",
    "  'fd-dk',\n",
    " 'draft-dk',\n",
    " 'draft-fd',\n",
    " 'avg_fppg_draft',\n",
    " 'avgpointspergame_dk',\n",
    " 'fppg_fd'\n",
    " ]"
   ]
  },
  {
   "cell_type": "code",
   "execution_count": null,
   "metadata": {},
   "outputs": [],
   "source": [
    "all_cut = all_cut[new_columns]\n",
    "all_cut.head()"
   ]
  },
  {
   "cell_type": "code",
   "execution_count": null,
   "metadata": {},
   "outputs": [],
   "source": [
    "# all_pd.columns = [ str(col) + '_wk2' if 'salary' in col else col for col in all_pd.columns ] #only add wk suffix to salaries\n",
    "all_cut.columns = [ str(col) + '_wk' + str(current_week) for col in all_cut.columns ]\n",
    "\n",
    "all_cut.columns"
   ]
  },
  {
   "cell_type": "code",
   "execution_count": null,
   "metadata": {},
   "outputs": [],
   "source": []
  },
  {
   "cell_type": "code",
   "execution_count": null,
   "metadata": {},
   "outputs": [],
   "source": [
    "all_cut.to_csv(\"week_3_combined.csv\")"
   ]
  },
  {
   "cell_type": "code",
   "execution_count": null,
   "metadata": {},
   "outputs": [],
   "source": []
  },
  {
   "cell_type": "markdown",
   "metadata": {},
   "source": [
    "Next steps:\n",
    "Add flask app (could save this for later)\n",
    "Save Data to database (could save this step for later)\n",
    "Decide on format for data in database (one table per week, new columns for each week)\n",
    "Add html template\n",
    "Create grid (bootstrap, D3?)\n"
   ]
  },
  {
   "cell_type": "code",
   "execution_count": null,
   "metadata": {},
   "outputs": [],
   "source": []
  }
 ],
 "metadata": {
  "kernelspec": {
   "display_name": "Python [conda env:yahooff]",
   "language": "python",
   "name": "conda-env-yahooff-py"
  },
  "language_info": {
   "codemirror_mode": {
    "name": "ipython",
    "version": 3
   },
   "file_extension": ".py",
   "mimetype": "text/x-python",
   "name": "python",
   "nbconvert_exporter": "python",
   "pygments_lexer": "ipython3",
   "version": "3.6.8"
  }
 },
 "nbformat": 4,
 "nbformat_minor": 2
}
